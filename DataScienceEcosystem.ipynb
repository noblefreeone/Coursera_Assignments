{
 "cells": [
  {
   "cell_type": "markdown",
   "id": "0612b807-852c-4eb5-a431-94c7a6ff2abb",
   "metadata": {},
   "source": [
    "# Data Science Tools and Ecosystem"
   ]
  },
  {
   "cell_type": "markdown",
   "id": "9f01b02c-e0dc-48e4-bce9-c4b0b19ce503",
   "metadata": {},
   "source": [
    "In this notebook, Data Science Tools and Ecosystem are summarized."
   ]
  },
  {
   "cell_type": "markdown",
   "id": "0d4528cb-b97e-45f7-b04d-8c3f8c1be49d",
   "metadata": {},
   "source": [
    "**Objectives**\n",
    "- List popular languages for data science\n",
    "- List commonly used libraries used for data science\n",
    "- Perform simple calculations in code cells"
   ]
  },
  {
   "cell_type": "markdown",
   "id": "f6be0e30-137d-459b-b46c-8de06ffc9e63",
   "metadata": {},
   "source": [
    "Some of the popular languages that Data Scientists use are:\n",
    "1. Python\n",
    "2. R\n",
    "3. Julia"
   ]
  },
  {
   "cell_type": "markdown",
   "id": "6ffd05ab-15cd-43b5-b5b6-9db92a93cd37",
   "metadata": {},
   "source": [
    "Some of the commonly used libraries used by Data Scientists include:\n",
    "1. ggplot (in R)\n",
    "2. matplotlib (in Python)\n",
    "3. pandas (in Python)"
   ]
  },
  {
   "cell_type": "markdown",
   "id": "f8af7fa0-bc2e-4053-ae79-f5be9b017ffb",
   "metadata": {},
   "source": [
    "| Data Science Tools |\n",
    "| --- |\n",
    "| Jupyter IDE |\n",
    "| RStudio |\n",
    "| Anaconda Navigator |"
   ]
  },
  {
   "cell_type": "markdown",
   "id": "a669cf1c-4bf9-485f-a9ee-29443ea117d0",
   "metadata": {},
   "source": [
    "### Below are a few examples of evaluating arithmetic expressions in Python"
   ]
  },
  {
   "cell_type": "code",
   "execution_count": 6,
   "id": "62b6553e-6abe-4369-91ef-307465acac8b",
   "metadata": {},
   "outputs": [
    {
     "data": {
      "text/plain": [
       "17"
      ]
     },
     "execution_count": 6,
     "metadata": {},
     "output_type": "execute_result"
    }
   ],
   "source": [
    "# This is simple arithmetic expression to multiply then add integers\n",
    "(3*4)+5"
   ]
  },
  {
   "cell_type": "code",
   "execution_count": 7,
   "id": "4b73884c-b7f6-4d60-888d-caae55bded14",
   "metadata": {},
   "outputs": [
    {
     "name": "stdout",
     "output_type": "stream",
     "text": [
      "3.3333333333333335\n"
     ]
    }
   ],
   "source": [
    "# This will convert 200 minutes to hours by dividing by 60\n",
    "x_in_minutes = 200\n",
    "x_in_hours = x_in_minutes / 60\n",
    "print(x_in_hours)"
   ]
  },
  {
   "cell_type": "markdown",
   "id": "e8e34005-3045-4f94-ab7f-87171ee370cc",
   "metadata": {},
   "source": [
    "## Author\n",
    "Brian"
   ]
  }
 ],
 "metadata": {
  "kernelspec": {
   "display_name": "Python 3 (ipykernel)",
   "language": "python",
   "name": "python3"
  },
  "language_info": {
   "codemirror_mode": {
    "name": "ipython",
    "version": 3
   },
   "file_extension": ".py",
   "mimetype": "text/x-python",
   "name": "python",
   "nbconvert_exporter": "python",
   "pygments_lexer": "ipython3",
   "version": "3.12.7"
  }
 },
 "nbformat": 4,
 "nbformat_minor": 5
}
